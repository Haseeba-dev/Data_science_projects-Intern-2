{
 "cells": [
  {
   "cell_type": "code",
   "execution_count": 1,
   "id": "b1f6b48c-01eb-452a-96cd-e54afd8bd359",
   "metadata": {},
   "outputs": [],
   "source": [
    "import pandas as pd\n",
    "\n",
    "df= pd.read_csv('article_highlights.csv')"
   ]
  },
  {
   "cell_type": "code",
   "execution_count": 2,
   "id": "0912e899-14a4-4be2-be82-a176b99a9aee",
   "metadata": {},
   "outputs": [
    {
     "data": {
      "text/html": [
       "<div>\n",
       "<style scoped>\n",
       "    .dataframe tbody tr th:only-of-type {\n",
       "        vertical-align: middle;\n",
       "    }\n",
       "\n",
       "    .dataframe tbody tr th {\n",
       "        vertical-align: top;\n",
       "    }\n",
       "\n",
       "    .dataframe thead th {\n",
       "        text-align: right;\n",
       "    }\n",
       "</style>\n",
       "<table border=\"1\" class=\"dataframe\">\n",
       "  <thead>\n",
       "    <tr style=\"text-align: right;\">\n",
       "      <th></th>\n",
       "      <th>url</th>\n",
       "      <th>article</th>\n",
       "      <th>highlights</th>\n",
       "    </tr>\n",
       "  </thead>\n",
       "  <tbody>\n",
       "    <tr>\n",
       "      <th>0</th>\n",
       "      <td>https://www.dailymail.co.uk/tvshowbiz/article-...</td>\n",
       "      <td>Beyoncé showcases her incredible figure in plu...</td>\n",
       "      <td>Beyoncé has shown off her flawless beauty in a...</td>\n",
       "    </tr>\n",
       "    <tr>\n",
       "      <th>1</th>\n",
       "      <td>https://www.dailymail.co.uk/tvshowbiz/article-...</td>\n",
       "      <td>Radio 1 listeners in shock as sex noises are p...</td>\n",
       "      <td>BBC Radio 1 listeners were left choking on the...</td>\n",
       "    </tr>\n",
       "    <tr>\n",
       "      <th>2</th>\n",
       "      <td>https://www.dailymail.co.uk/tvshowbiz/article-...</td>\n",
       "      <td>TOWIE's Dan Edgar, 33, and Ella Rae Wise, 23, ...</td>\n",
       "      <td>Dan Edgar and Ella Rae Wise put on a loved-up ...</td>\n",
       "    </tr>\n",
       "    <tr>\n",
       "      <th>3</th>\n",
       "      <td>https://www.dailymail.co.uk/tvshowbiz/article-...</td>\n",
       "      <td>Bradley Cooper recalls 'crazy' pitch meeting a...</td>\n",
       "      <td>Bradley Cooper discussed the 'crazy' experienc...</td>\n",
       "    </tr>\n",
       "    <tr>\n",
       "      <th>4</th>\n",
       "      <td>https://www.dailymail.co.uk/tvshowbiz/article-...</td>\n",
       "      <td>Margaret Qualley and Beanie Feldstein stun in ...</td>\n",
       "      <td>Margaret Qualley and Beanie Feldstein were dre...</td>\n",
       "    </tr>\n",
       "  </tbody>\n",
       "</table>\n",
       "</div>"
      ],
      "text/plain": [
       "                                                 url  \\\n",
       "0  https://www.dailymail.co.uk/tvshowbiz/article-...   \n",
       "1  https://www.dailymail.co.uk/tvshowbiz/article-...   \n",
       "2  https://www.dailymail.co.uk/tvshowbiz/article-...   \n",
       "3  https://www.dailymail.co.uk/tvshowbiz/article-...   \n",
       "4  https://www.dailymail.co.uk/tvshowbiz/article-...   \n",
       "\n",
       "                                             article  \\\n",
       "0  Beyoncé showcases her incredible figure in plu...   \n",
       "1  Radio 1 listeners in shock as sex noises are p...   \n",
       "2  TOWIE's Dan Edgar, 33, and Ella Rae Wise, 23, ...   \n",
       "3  Bradley Cooper recalls 'crazy' pitch meeting a...   \n",
       "4  Margaret Qualley and Beanie Feldstein stun in ...   \n",
       "\n",
       "                                          highlights  \n",
       "0  Beyoncé has shown off her flawless beauty in a...  \n",
       "1  BBC Radio 1 listeners were left choking on the...  \n",
       "2  Dan Edgar and Ella Rae Wise put on a loved-up ...  \n",
       "3  Bradley Cooper discussed the 'crazy' experienc...  \n",
       "4  Margaret Qualley and Beanie Feldstein were dre...  "
      ]
     },
     "execution_count": 2,
     "metadata": {},
     "output_type": "execute_result"
    }
   ],
   "source": [
    "df.head()"
   ]
  },
  {
   "cell_type": "code",
   "execution_count": 3,
   "id": "bff3aa27-8a62-4899-bec3-90db95026434",
   "metadata": {},
   "outputs": [
    {
     "data": {
      "text/html": [
       "<div>\n",
       "<style scoped>\n",
       "    .dataframe tbody tr th:only-of-type {\n",
       "        vertical-align: middle;\n",
       "    }\n",
       "\n",
       "    .dataframe tbody tr th {\n",
       "        vertical-align: top;\n",
       "    }\n",
       "\n",
       "    .dataframe thead th {\n",
       "        text-align: right;\n",
       "    }\n",
       "</style>\n",
       "<table border=\"1\" class=\"dataframe\">\n",
       "  <thead>\n",
       "    <tr style=\"text-align: right;\">\n",
       "      <th></th>\n",
       "      <th>url</th>\n",
       "      <th>article</th>\n",
       "      <th>highlights</th>\n",
       "    </tr>\n",
       "  </thead>\n",
       "  <tbody>\n",
       "    <tr>\n",
       "      <th>8171</th>\n",
       "      <td>https://www.dailymail.co.uk/sport/football/art...</td>\n",
       "      <td>Bernardo Silva's calamitous free kick against ...</td>\n",
       "      <td>Bernardo Silva's calamitous free-kick against ...</td>\n",
       "    </tr>\n",
       "    <tr>\n",
       "      <th>8172</th>\n",
       "      <td>https://www.dailymail.co.uk/sport/football/art...</td>\n",
       "      <td>Son Heung-min and Lee Kang-in bury the hatchet...</td>\n",
       "      <td>Spurs star Son Heung-min and PSG's Lee Kang-in...</td>\n",
       "    </tr>\n",
       "    <tr>\n",
       "      <th>8173</th>\n",
       "      <td>https://www.dailymail.co.uk/sport/football/art...</td>\n",
       "      <td>Bernardo Silva's calamitous free kick against ...</td>\n",
       "      <td>Bernardo Silva's calamitous free-kick against ...</td>\n",
       "    </tr>\n",
       "    <tr>\n",
       "      <th>8174</th>\n",
       "      <td>https://www.dailymail.co.uk/sport/football/art...</td>\n",
       "      <td>Son Heung-min and Lee Kang-in bury the hatchet...</td>\n",
       "      <td>Spurs star Son Heung-min and PSG's Lee Kang-in...</td>\n",
       "    </tr>\n",
       "    <tr>\n",
       "      <th>8175</th>\n",
       "      <td>https://www.dailymail.co.uk/sport/football/art...</td>\n",
       "      <td>Bernardo Silva's calamitous free kick against ...</td>\n",
       "      <td>Bernardo Silva's calamitous free-kick against ...</td>\n",
       "    </tr>\n",
       "  </tbody>\n",
       "</table>\n",
       "</div>"
      ],
      "text/plain": [
       "                                                    url  \\\n",
       "8171  https://www.dailymail.co.uk/sport/football/art...   \n",
       "8172  https://www.dailymail.co.uk/sport/football/art...   \n",
       "8173  https://www.dailymail.co.uk/sport/football/art...   \n",
       "8174  https://www.dailymail.co.uk/sport/football/art...   \n",
       "8175  https://www.dailymail.co.uk/sport/football/art...   \n",
       "\n",
       "                                                article  \\\n",
       "8171  Bernardo Silva's calamitous free kick against ...   \n",
       "8172  Son Heung-min and Lee Kang-in bury the hatchet...   \n",
       "8173  Bernardo Silva's calamitous free kick against ...   \n",
       "8174  Son Heung-min and Lee Kang-in bury the hatchet...   \n",
       "8175  Bernardo Silva's calamitous free kick against ...   \n",
       "\n",
       "                                             highlights  \n",
       "8171  Bernardo Silva's calamitous free-kick against ...  \n",
       "8172  Spurs star Son Heung-min and PSG's Lee Kang-in...  \n",
       "8173  Bernardo Silva's calamitous free-kick against ...  \n",
       "8174  Spurs star Son Heung-min and PSG's Lee Kang-in...  \n",
       "8175  Bernardo Silva's calamitous free-kick against ...  "
      ]
     },
     "execution_count": 3,
     "metadata": {},
     "output_type": "execute_result"
    }
   ],
   "source": [
    "df.tail()"
   ]
  },
  {
   "cell_type": "code",
   "execution_count": 4,
   "id": "c482db06-bb36-4fdc-9e72-f7a13be08b69",
   "metadata": {},
   "outputs": [
    {
     "data": {
      "text/plain": [
       "24528"
      ]
     },
     "execution_count": 4,
     "metadata": {},
     "output_type": "execute_result"
    }
   ],
   "source": [
    "df.size"
   ]
  },
  {
   "cell_type": "code",
   "execution_count": 5,
   "id": "95a6f263-ea39-4c0f-9011-c8ee5d85114c",
   "metadata": {},
   "outputs": [
    {
     "data": {
      "text/plain": [
       "(8176, 3)"
      ]
     },
     "execution_count": 5,
     "metadata": {},
     "output_type": "execute_result"
    }
   ],
   "source": [
    "df.shape"
   ]
  },
  {
   "cell_type": "code",
   "execution_count": 6,
   "id": "f43f6650-d5ab-4a75-b7f1-ff2df2725fc5",
   "metadata": {},
   "outputs": [
    {
     "data": {
      "text/html": [
       "<div>\n",
       "<style scoped>\n",
       "    .dataframe tbody tr th:only-of-type {\n",
       "        vertical-align: middle;\n",
       "    }\n",
       "\n",
       "    .dataframe tbody tr th {\n",
       "        vertical-align: top;\n",
       "    }\n",
       "\n",
       "    .dataframe thead th {\n",
       "        text-align: right;\n",
       "    }\n",
       "</style>\n",
       "<table border=\"1\" class=\"dataframe\">\n",
       "  <thead>\n",
       "    <tr style=\"text-align: right;\">\n",
       "      <th></th>\n",
       "      <th>article</th>\n",
       "      <th>highlights</th>\n",
       "    </tr>\n",
       "  </thead>\n",
       "  <tbody>\n",
       "    <tr>\n",
       "      <th>0</th>\n",
       "      <td>Beyoncé showcases her incredible figure in plu...</td>\n",
       "      <td>Beyoncé has shown off her flawless beauty in a...</td>\n",
       "    </tr>\n",
       "    <tr>\n",
       "      <th>1</th>\n",
       "      <td>Radio 1 listeners in shock as sex noises are p...</td>\n",
       "      <td>BBC Radio 1 listeners were left choking on the...</td>\n",
       "    </tr>\n",
       "    <tr>\n",
       "      <th>2</th>\n",
       "      <td>TOWIE's Dan Edgar, 33, and Ella Rae Wise, 23, ...</td>\n",
       "      <td>Dan Edgar and Ella Rae Wise put on a loved-up ...</td>\n",
       "    </tr>\n",
       "    <tr>\n",
       "      <th>3</th>\n",
       "      <td>Bradley Cooper recalls 'crazy' pitch meeting a...</td>\n",
       "      <td>Bradley Cooper discussed the 'crazy' experienc...</td>\n",
       "    </tr>\n",
       "    <tr>\n",
       "      <th>4</th>\n",
       "      <td>Margaret Qualley and Beanie Feldstein stun in ...</td>\n",
       "      <td>Margaret Qualley and Beanie Feldstein were dre...</td>\n",
       "    </tr>\n",
       "  </tbody>\n",
       "</table>\n",
       "</div>"
      ],
      "text/plain": [
       "                                             article  \\\n",
       "0  Beyoncé showcases her incredible figure in plu...   \n",
       "1  Radio 1 listeners in shock as sex noises are p...   \n",
       "2  TOWIE's Dan Edgar, 33, and Ella Rae Wise, 23, ...   \n",
       "3  Bradley Cooper recalls 'crazy' pitch meeting a...   \n",
       "4  Margaret Qualley and Beanie Feldstein stun in ...   \n",
       "\n",
       "                                          highlights  \n",
       "0  Beyoncé has shown off her flawless beauty in a...  \n",
       "1  BBC Radio 1 listeners were left choking on the...  \n",
       "2  Dan Edgar and Ella Rae Wise put on a loved-up ...  \n",
       "3  Bradley Cooper discussed the 'crazy' experienc...  \n",
       "4  Margaret Qualley and Beanie Feldstein were dre...  "
      ]
     },
     "execution_count": 6,
     "metadata": {},
     "output_type": "execute_result"
    }
   ],
   "source": [
    "df.drop('url', axis=1, inplace= True)\n",
    "df.head()"
   ]
  },
  {
   "cell_type": "code",
   "execution_count": 8,
   "id": "56c755d7-e1bf-438c-88de-e459041aa069",
   "metadata": {},
   "outputs": [
    {
     "data": {
      "text/plain": [
       "(8176, 2)"
      ]
     },
     "execution_count": 8,
     "metadata": {},
     "output_type": "execute_result"
    }
   ],
   "source": [
    "df.shape"
   ]
  },
  {
   "cell_type": "code",
   "execution_count": 9,
   "id": "b31d241c-49d6-48ad-8e56-08575c19fbcd",
   "metadata": {},
   "outputs": [
    {
     "data": {
      "text/html": [
       "<div>\n",
       "<style scoped>\n",
       "    .dataframe tbody tr th:only-of-type {\n",
       "        vertical-align: middle;\n",
       "    }\n",
       "\n",
       "    .dataframe tbody tr th {\n",
       "        vertical-align: top;\n",
       "    }\n",
       "\n",
       "    .dataframe thead th {\n",
       "        text-align: right;\n",
       "    }\n",
       "</style>\n",
       "<table border=\"1\" class=\"dataframe\">\n",
       "  <thead>\n",
       "    <tr style=\"text-align: right;\">\n",
       "      <th></th>\n",
       "      <th>article</th>\n",
       "      <th>highlights</th>\n",
       "    </tr>\n",
       "  </thead>\n",
       "  <tbody>\n",
       "    <tr>\n",
       "      <th>0</th>\n",
       "      <td>beyonc showcases her incredible figure in plun...</td>\n",
       "      <td>beyonc has shown off her flawless beauty in a ...</td>\n",
       "    </tr>\n",
       "    <tr>\n",
       "      <th>1</th>\n",
       "      <td>radio listeners in shock as sex noises are pla...</td>\n",
       "      <td>bbc radio listeners were left choking on their...</td>\n",
       "    </tr>\n",
       "    <tr>\n",
       "      <th>2</th>\n",
       "      <td>towie s dan edgar and ella rae wise put on a l...</td>\n",
       "      <td>dan edgar and ella rae wise put on a loved up ...</td>\n",
       "    </tr>\n",
       "    <tr>\n",
       "      <th>3</th>\n",
       "      <td>bradley cooper recalls crazy pitch meeting at ...</td>\n",
       "      <td>bradley cooper discussed the crazy experience ...</td>\n",
       "    </tr>\n",
       "    <tr>\n",
       "      <th>4</th>\n",
       "      <td>margaret qualley and beanie feldstein stun in ...</td>\n",
       "      <td>margaret qualley and beanie feldstein were dre...</td>\n",
       "    </tr>\n",
       "  </tbody>\n",
       "</table>\n",
       "</div>"
      ],
      "text/plain": [
       "                                             article  \\\n",
       "0  beyonc showcases her incredible figure in plun...   \n",
       "1  radio listeners in shock as sex noises are pla...   \n",
       "2  towie s dan edgar and ella rae wise put on a l...   \n",
       "3  bradley cooper recalls crazy pitch meeting at ...   \n",
       "4  margaret qualley and beanie feldstein stun in ...   \n",
       "\n",
       "                                          highlights  \n",
       "0  beyonc has shown off her flawless beauty in a ...  \n",
       "1  bbc radio listeners were left choking on their...  \n",
       "2  dan edgar and ella rae wise put on a loved up ...  \n",
       "3  bradley cooper discussed the crazy experience ...  \n",
       "4  margaret qualley and beanie feldstein were dre...  "
      ]
     },
     "execution_count": 9,
     "metadata": {},
     "output_type": "execute_result"
    }
   ],
   "source": [
    "#basic cleaning of the columns\n",
    "import re\n",
    "from bs4 import BeautifulSoup \n",
    "\n",
    "def clean_text(text):\n",
    "    if not isinstance(text, str):  \n",
    "        return \"\"\n",
    "    \n",
    "    text = BeautifulSoup(text, 'html.parser').get_text()\n",
    "    text = re.sub(r'\\[[0-9]*\\]', '', text)\n",
    "    text = re.sub(r\"[^a-zA-Z]\", \" \", text)\n",
    "    text = re.sub(r'\\s+', ' ', text)\n",
    "    text = text.lower()\n",
    "    \n",
    "    return text.strip()\n",
    "\n",
    "df['article'] = df['article'].apply(clean_text)\n",
    "df['highlights'] = df['highlights'].apply(clean_text)\n",
    "\n",
    "df.head()"
   ]
  },
  {
   "cell_type": "code",
   "execution_count": 10,
   "id": "6239b781-3ea5-4e7c-905d-42694464280c",
   "metadata": {},
   "outputs": [
    {
     "name": "stderr",
     "output_type": "stream",
     "text": [
      "C:\\Users\\ihase\\anaconda3\\envs\\summarizer\\lib\\site-packages\\spacy\\util.py:910: UserWarning: [W095] Model 'en_core_web_sm' (3.7.1) was trained with spaCy v3.7.2 and may not be 100% compatible with the current version (3.8.2). If you see errors or degraded performance, download a newer compatible model or retrain your custom model with the current spaCy version. For more details and available updates, run: python -m spacy validate\n",
      "  warnings.warn(warn_msg)\n",
      "100%|██████████████████████████████████████████████████████████████████████████████| 8176/8176 [03:26<00:00, 39.50it/s]"
     ]
    },
    {
     "name": "stdout",
     "output_type": "stream",
     "text": [
      "Original:\n",
      " beyonc showcases her incredible figure in plunging white dress with thigh high leg slit as she promotes her new haircare brand c credbeyonc has shown off her flawless beauty in a new photo to promote her brand new haircare range\n",
      "\n",
      "Extractive Summary:\n",
      " beyonc showcases her incredible figure in plunging white dress with thigh high leg slit as she promotes her new haircare brand c credbeyonc has shown off her flawless beauty in a new photo to promote her brand new haircare range\n",
      "Number of sentences: 1\n"
     ]
    },
    {
     "name": "stderr",
     "output_type": "stream",
     "text": [
      "\n"
     ]
    }
   ],
   "source": [
    "import spacy\n",
    "import numpy as np\n",
    "from sklearn.feature_extraction.text import TfidfVectorizer\n",
    "from tqdm import tqdm\n",
    "\n",
    "nlp = spacy.load(\"en_core_web_sm\")\n",
    "\n",
    "tqdm.pandas()\n",
    "\n",
    "# Define the extractive summarization function\n",
    "def extractive_summary(text, n=1):\n",
    "    doc = nlp(text)\n",
    "    sentences = [sent.text.strip() for sent in doc.sents]\n",
    "    \n",
    "    if len(sentences) <= n:\n",
    "        return ' '.join(sentences)\n",
    "    \n",
    "    vectorizer = TfidfVectorizer()\n",
    "    X = vectorizer.fit_transform(sentences)\n",
    "    sentence_scores = np.array(X.sum(axis=1)).flatten()\n",
    "    top_n_idx = sentence_scores.argsort()[-n:][::-1]\n",
    "    \n",
    "    return ' '.join([sentences[i] for i in sorted(top_n_idx)])\n",
    "\n",
    "# Define a safe summary function to handle long texts\n",
    "def safe_summary(text, max_chars=5000):\n",
    "    if len(text) > max_chars:\n",
    "        text = text[:max_chars]\n",
    "    return extractive_summary(text)\n",
    "\n",
    "df['extractive_summary'] = df['article'].progress_apply(safe_summary)\n",
    "print(\"Original:\\n\", df.iloc[0]['article'][:1000])\n",
    "print(\"\\nExtractive Summary:\\n\", df.iloc[0]['extractive_summary'])\n",
    "doc = nlp(df.iloc[0]['article'])\n",
    "print(f\"Number of sentences: {len(list(doc.sents))}\")"
   ]
  },
  {
   "cell_type": "code",
   "execution_count": null,
   "id": "e7a984ab-a899-4745-8a9d-9acb981ada52",
   "metadata": {},
   "outputs": [
    {
     "data": {
      "application/vnd.jupyter.widget-view+json": {
       "model_id": "7601a63951a54978aacbacef77ee41e7",
       "version_major": 2,
       "version_minor": 0
      },
      "text/plain": [
       "model.safetensors:   0%|          | 0.00/1.63G [00:00<?, ?B/s]"
      ]
     },
     "metadata": {},
     "output_type": "display_data"
    },
    {
     "name": "stderr",
     "output_type": "stream",
     "text": [
      "C:\\Users\\ihase\\anaconda3\\envs\\summarizer\\lib\\site-packages\\huggingface_hub\\file_download.py:144: UserWarning: `huggingface_hub` cache-system uses symlinks by default to efficiently store duplicated files but your machine does not support them in C:\\Users\\ihase\\.cache\\huggingface\\hub\\models--facebook--bart-large-cnn. Caching files will still work but in a degraded version that might require more space on your disk. This warning can be disabled by setting the `HF_HUB_DISABLE_SYMLINKS_WARNING` environment variable. For more details, see https://huggingface.co/docs/huggingface_hub/how-to-cache#limitations.\n",
      "To support symlinks on Windows, you either need to activate Developer Mode or to run Python as an administrator. In order to activate developer mode, see this article: https://docs.microsoft.com/en-us/windows/apps/get-started/enable-your-device-for-development\n",
      "  warnings.warn(message)\n"
     ]
    }
   ],
   "source": [
    "from transformers import pipeline\n",
    "\n",
    "summarizer = pipeline(\"summarization\", model=\"facebook/bart-large-cnn\")\n",
    "\n",
    "def abstractive_summary(text, max_input_length=1024):\n",
    "    if len(text) > max_input_length:\n",
    "        text = text[:max_input_length]\n",
    "    summary = summarizer(text, max_length=130, min_length=30, do_sample=False)\n",
    "    return summary[0]['summary_text']\n",
    "\n",
    "df['abstractive_summary'] = df['article'].progress_apply(abstractive_summary)\n"
   ]
  },
  {
   "cell_type": "code",
   "execution_count": null,
   "id": "e7bacd2b-9bb1-4261-ae62-d094b28f4de2",
   "metadata": {},
   "outputs": [],
   "source": []
  }
 ],
 "metadata": {
  "kernelspec": {
   "display_name": "Python 3 (ipykernel)",
   "language": "python",
   "name": "python3"
  },
  "language_info": {
   "codemirror_mode": {
    "name": "ipython",
    "version": 3
   },
   "file_extension": ".py",
   "mimetype": "text/x-python",
   "name": "python",
   "nbconvert_exporter": "python",
   "pygments_lexer": "ipython3",
   "version": "3.9.21"
  }
 },
 "nbformat": 4,
 "nbformat_minor": 5
}
