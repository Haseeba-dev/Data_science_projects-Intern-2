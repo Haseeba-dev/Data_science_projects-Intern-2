{
 "cells": [
  {
   "cell_type": "code",
   "execution_count": 1,
   "id": "30bf36ae-707b-459e-953d-d6a208d24f80",
   "metadata": {},
   "outputs": [],
   "source": [
    "import pandas as pd\n",
    "\n",
    "df = pd.read_csv('LC_loans_granting_model_dataset.csv', low_memory=False)"
   ]
  },
  {
   "cell_type": "code",
   "execution_count": 2,
   "id": "d4288efa-5fe1-4ee1-99cc-b2297dd696f8",
   "metadata": {},
   "outputs": [
    {
     "data": {
      "text/html": [
       "<div>\n",
       "<style scoped>\n",
       "    .dataframe tbody tr th:only-of-type {\n",
       "        vertical-align: middle;\n",
       "    }\n",
       "\n",
       "    .dataframe tbody tr th {\n",
       "        vertical-align: top;\n",
       "    }\n",
       "\n",
       "    .dataframe thead th {\n",
       "        text-align: right;\n",
       "    }\n",
       "</style>\n",
       "<table border=\"1\" class=\"dataframe\">\n",
       "  <thead>\n",
       "    <tr style=\"text-align: right;\">\n",
       "      <th></th>\n",
       "      <th>id</th>\n",
       "      <th>issue_d</th>\n",
       "      <th>revenue</th>\n",
       "      <th>dti_n</th>\n",
       "      <th>loan_amnt</th>\n",
       "      <th>fico_n</th>\n",
       "      <th>experience_c</th>\n",
       "      <th>emp_length</th>\n",
       "      <th>purpose</th>\n",
       "      <th>home_ownership_n</th>\n",
       "      <th>addr_state</th>\n",
       "      <th>zip_code</th>\n",
       "      <th>Default</th>\n",
       "      <th>title</th>\n",
       "      <th>desc</th>\n",
       "    </tr>\n",
       "  </thead>\n",
       "  <tbody>\n",
       "    <tr>\n",
       "      <th>0</th>\n",
       "      <td>68407277</td>\n",
       "      <td>Dec-2015</td>\n",
       "      <td>55000.0</td>\n",
       "      <td>5.91</td>\n",
       "      <td>3600</td>\n",
       "      <td>677.0</td>\n",
       "      <td>1</td>\n",
       "      <td>10+ years</td>\n",
       "      <td>debt_consolidation</td>\n",
       "      <td>MORTGAGE</td>\n",
       "      <td>PA</td>\n",
       "      <td>190xx</td>\n",
       "      <td>0</td>\n",
       "      <td>Debt consolidation</td>\n",
       "      <td>NaN</td>\n",
       "    </tr>\n",
       "    <tr>\n",
       "      <th>1</th>\n",
       "      <td>68355089</td>\n",
       "      <td>Dec-2015</td>\n",
       "      <td>65000.0</td>\n",
       "      <td>16.06</td>\n",
       "      <td>24700</td>\n",
       "      <td>717.0</td>\n",
       "      <td>1</td>\n",
       "      <td>10+ years</td>\n",
       "      <td>small_business</td>\n",
       "      <td>MORTGAGE</td>\n",
       "      <td>SD</td>\n",
       "      <td>577xx</td>\n",
       "      <td>0</td>\n",
       "      <td>Business</td>\n",
       "      <td>NaN</td>\n",
       "    </tr>\n",
       "    <tr>\n",
       "      <th>2</th>\n",
       "      <td>68341763</td>\n",
       "      <td>Dec-2015</td>\n",
       "      <td>71000.0</td>\n",
       "      <td>13.85</td>\n",
       "      <td>20000</td>\n",
       "      <td>697.0</td>\n",
       "      <td>1</td>\n",
       "      <td>10+ years</td>\n",
       "      <td>home_improvement</td>\n",
       "      <td>MORTGAGE</td>\n",
       "      <td>IL</td>\n",
       "      <td>605xx</td>\n",
       "      <td>0</td>\n",
       "      <td>NaN</td>\n",
       "      <td>NaN</td>\n",
       "    </tr>\n",
       "    <tr>\n",
       "      <th>3</th>\n",
       "      <td>68476807</td>\n",
       "      <td>Dec-2015</td>\n",
       "      <td>104433.0</td>\n",
       "      <td>25.37</td>\n",
       "      <td>10400</td>\n",
       "      <td>697.0</td>\n",
       "      <td>1</td>\n",
       "      <td>3 years</td>\n",
       "      <td>major_purchase</td>\n",
       "      <td>MORTGAGE</td>\n",
       "      <td>PA</td>\n",
       "      <td>174xx</td>\n",
       "      <td>0</td>\n",
       "      <td>Major purchase</td>\n",
       "      <td>NaN</td>\n",
       "    </tr>\n",
       "    <tr>\n",
       "      <th>4</th>\n",
       "      <td>68426831</td>\n",
       "      <td>Dec-2015</td>\n",
       "      <td>34000.0</td>\n",
       "      <td>10.20</td>\n",
       "      <td>11950</td>\n",
       "      <td>692.0</td>\n",
       "      <td>1</td>\n",
       "      <td>4 years</td>\n",
       "      <td>debt_consolidation</td>\n",
       "      <td>RENT</td>\n",
       "      <td>GA</td>\n",
       "      <td>300xx</td>\n",
       "      <td>0</td>\n",
       "      <td>Debt consolidation</td>\n",
       "      <td>NaN</td>\n",
       "    </tr>\n",
       "  </tbody>\n",
       "</table>\n",
       "</div>"
      ],
      "text/plain": [
       "         id   issue_d   revenue  dti_n  loan_amnt  fico_n  experience_c  \\\n",
       "0  68407277  Dec-2015   55000.0   5.91       3600   677.0             1   \n",
       "1  68355089  Dec-2015   65000.0  16.06      24700   717.0             1   \n",
       "2  68341763  Dec-2015   71000.0  13.85      20000   697.0             1   \n",
       "3  68476807  Dec-2015  104433.0  25.37      10400   697.0             1   \n",
       "4  68426831  Dec-2015   34000.0  10.20      11950   692.0             1   \n",
       "\n",
       "  emp_length             purpose home_ownership_n addr_state zip_code  \\\n",
       "0  10+ years  debt_consolidation         MORTGAGE         PA    190xx   \n",
       "1  10+ years      small_business         MORTGAGE         SD    577xx   \n",
       "2  10+ years    home_improvement         MORTGAGE         IL    605xx   \n",
       "3    3 years      major_purchase         MORTGAGE         PA    174xx   \n",
       "4    4 years  debt_consolidation             RENT         GA    300xx   \n",
       "\n",
       "   Default               title desc  \n",
       "0        0  Debt consolidation  NaN  \n",
       "1        0            Business  NaN  \n",
       "2        0                 NaN  NaN  \n",
       "3        0      Major purchase  NaN  \n",
       "4        0  Debt consolidation  NaN  "
      ]
     },
     "execution_count": 2,
     "metadata": {},
     "output_type": "execute_result"
    }
   ],
   "source": [
    "df.head()"
   ]
  },
  {
   "cell_type": "code",
   "execution_count": 3,
   "id": "9b91e967-69fd-4bef-805e-7f73bd307660",
   "metadata": {},
   "outputs": [
    {
     "data": {
      "text/plain": [
       "(1347681, 15)"
      ]
     },
     "execution_count": 3,
     "metadata": {},
     "output_type": "execute_result"
    }
   ],
   "source": [
    "df.shape"
   ]
  },
  {
   "cell_type": "code",
   "execution_count": 4,
   "id": "b2f1a31a-f110-4f0a-8dfb-6a584d80ac64",
   "metadata": {},
   "outputs": [
    {
     "data": {
      "text/plain": [
       "20215215"
      ]
     },
     "execution_count": 4,
     "metadata": {},
     "output_type": "execute_result"
    }
   ],
   "source": [
    "df.size"
   ]
  },
  {
   "cell_type": "code",
   "execution_count": 5,
   "id": "fe0d76e6-2cf1-4a27-b0e0-42fc3dc857b4",
   "metadata": {},
   "outputs": [
    {
     "data": {
      "text/plain": [
       "id                    int64\n",
       "issue_d              object\n",
       "revenue             float64\n",
       "dti_n               float64\n",
       "loan_amnt             int64\n",
       "fico_n              float64\n",
       "experience_c          int64\n",
       "emp_length           object\n",
       "purpose              object\n",
       "home_ownership_n     object\n",
       "addr_state           object\n",
       "zip_code             object\n",
       "Default               int64\n",
       "title                object\n",
       "desc                 object\n",
       "dtype: object"
      ]
     },
     "execution_count": 5,
     "metadata": {},
     "output_type": "execute_result"
    }
   ],
   "source": [
    "df.dtypes"
   ]
  },
  {
   "cell_type": "code",
   "execution_count": 6,
   "id": "db67089b-684f-4286-8818-30213ea4fe46",
   "metadata": {},
   "outputs": [
    {
     "data": {
      "text/html": [
       "<div>\n",
       "<style scoped>\n",
       "    .dataframe tbody tr th:only-of-type {\n",
       "        vertical-align: middle;\n",
       "    }\n",
       "\n",
       "    .dataframe tbody tr th {\n",
       "        vertical-align: top;\n",
       "    }\n",
       "\n",
       "    .dataframe thead th {\n",
       "        text-align: right;\n",
       "    }\n",
       "</style>\n",
       "<table border=\"1\" class=\"dataframe\">\n",
       "  <thead>\n",
       "    <tr style=\"text-align: right;\">\n",
       "      <th></th>\n",
       "      <th>id</th>\n",
       "      <th>revenue</th>\n",
       "      <th>dti_n</th>\n",
       "      <th>loan_amnt</th>\n",
       "      <th>fico_n</th>\n",
       "      <th>experience_c</th>\n",
       "      <th>Default</th>\n",
       "    </tr>\n",
       "  </thead>\n",
       "  <tbody>\n",
       "    <tr>\n",
       "      <th>count</th>\n",
       "      <td>1.347681e+06</td>\n",
       "      <td>1.347681e+06</td>\n",
       "      <td>1.347681e+06</td>\n",
       "      <td>1.347681e+06</td>\n",
       "      <td>1.347681e+06</td>\n",
       "      <td>1.347681e+06</td>\n",
       "      <td>1.347681e+06</td>\n",
       "    </tr>\n",
       "    <tr>\n",
       "      <th>mean</th>\n",
       "      <td>5.621359e+07</td>\n",
       "      <td>7.736968e+04</td>\n",
       "      <td>1.829909e+01</td>\n",
       "      <td>1.440823e+04</td>\n",
       "      <td>6.981589e+02</td>\n",
       "      <td>9.999814e-01</td>\n",
       "      <td>1.997869e-01</td>\n",
       "    </tr>\n",
       "    <tr>\n",
       "      <th>std</th>\n",
       "      <td>3.839501e+07</td>\n",
       "      <td>7.036299e+04</td>\n",
       "      <td>1.115214e+01</td>\n",
       "      <td>8.715347e+03</td>\n",
       "      <td>3.184872e+01</td>\n",
       "      <td>4.306977e-03</td>\n",
       "      <td>3.998402e-01</td>\n",
       "    </tr>\n",
       "    <tr>\n",
       "      <th>min</th>\n",
       "      <td>5.473400e+04</td>\n",
       "      <td>1.896000e+03</td>\n",
       "      <td>0.000000e+00</td>\n",
       "      <td>5.000000e+02</td>\n",
       "      <td>6.120000e+02</td>\n",
       "      <td>0.000000e+00</td>\n",
       "      <td>0.000000e+00</td>\n",
       "    </tr>\n",
       "    <tr>\n",
       "      <th>25%</th>\n",
       "      <td>1.970651e+07</td>\n",
       "      <td>4.660000e+04</td>\n",
       "      <td>1.182000e+01</td>\n",
       "      <td>7.975000e+03</td>\n",
       "      <td>6.720000e+02</td>\n",
       "      <td>1.000000e+00</td>\n",
       "      <td>0.000000e+00</td>\n",
       "    </tr>\n",
       "    <tr>\n",
       "      <th>50%</th>\n",
       "      <td>5.766422e+07</td>\n",
       "      <td>6.500000e+04</td>\n",
       "      <td>1.763000e+01</td>\n",
       "      <td>1.200000e+04</td>\n",
       "      <td>6.920000e+02</td>\n",
       "      <td>1.000000e+00</td>\n",
       "      <td>0.000000e+00</td>\n",
       "    </tr>\n",
       "    <tr>\n",
       "      <th>75%</th>\n",
       "      <td>8.449505e+07</td>\n",
       "      <td>9.200000e+04</td>\n",
       "      <td>2.407000e+01</td>\n",
       "      <td>2.000000e+04</td>\n",
       "      <td>7.120000e+02</td>\n",
       "      <td>1.000000e+00</td>\n",
       "      <td>0.000000e+00</td>\n",
       "    </tr>\n",
       "    <tr>\n",
       "      <th>max</th>\n",
       "      <td>1.456364e+08</td>\n",
       "      <td>1.099920e+07</td>\n",
       "      <td>9.990000e+02</td>\n",
       "      <td>4.000000e+04</td>\n",
       "      <td>8.475000e+02</td>\n",
       "      <td>1.000000e+00</td>\n",
       "      <td>1.000000e+00</td>\n",
       "    </tr>\n",
       "  </tbody>\n",
       "</table>\n",
       "</div>"
      ],
      "text/plain": [
       "                 id       revenue         dti_n     loan_amnt        fico_n  \\\n",
       "count  1.347681e+06  1.347681e+06  1.347681e+06  1.347681e+06  1.347681e+06   \n",
       "mean   5.621359e+07  7.736968e+04  1.829909e+01  1.440823e+04  6.981589e+02   \n",
       "std    3.839501e+07  7.036299e+04  1.115214e+01  8.715347e+03  3.184872e+01   \n",
       "min    5.473400e+04  1.896000e+03  0.000000e+00  5.000000e+02  6.120000e+02   \n",
       "25%    1.970651e+07  4.660000e+04  1.182000e+01  7.975000e+03  6.720000e+02   \n",
       "50%    5.766422e+07  6.500000e+04  1.763000e+01  1.200000e+04  6.920000e+02   \n",
       "75%    8.449505e+07  9.200000e+04  2.407000e+01  2.000000e+04  7.120000e+02   \n",
       "max    1.456364e+08  1.099920e+07  9.990000e+02  4.000000e+04  8.475000e+02   \n",
       "\n",
       "       experience_c       Default  \n",
       "count  1.347681e+06  1.347681e+06  \n",
       "mean   9.999814e-01  1.997869e-01  \n",
       "std    4.306977e-03  3.998402e-01  \n",
       "min    0.000000e+00  0.000000e+00  \n",
       "25%    1.000000e+00  0.000000e+00  \n",
       "50%    1.000000e+00  0.000000e+00  \n",
       "75%    1.000000e+00  0.000000e+00  \n",
       "max    1.000000e+00  1.000000e+00  "
      ]
     },
     "execution_count": 6,
     "metadata": {},
     "output_type": "execute_result"
    }
   ],
   "source": [
    "df.describe()"
   ]
  },
  {
   "cell_type": "code",
   "execution_count": 7,
   "id": "25eed66c-f76d-4e59-a2f1-bdcff9b5738b",
   "metadata": {},
   "outputs": [
    {
     "name": "stdout",
     "output_type": "stream",
     "text": [
      "Checking Missing Values:\n",
      "id                        0\n",
      "issue_d                   0\n",
      "revenue                   0\n",
      "dti_n                     0\n",
      "loan_amnt                 0\n",
      "fico_n                    0\n",
      "experience_c              0\n",
      "emp_length                0\n",
      "purpose                   0\n",
      "home_ownership_n          0\n",
      "addr_state                0\n",
      "zip_code                  1\n",
      "Default                   0\n",
      "title                 16657\n",
      "desc                1228582\n",
      "dtype: int64\n"
     ]
    }
   ],
   "source": [
    "print(\"Checking Missing Values:\")\n",
    "print(df.isnull().sum())"
   ]
  },
  {
   "cell_type": "code",
   "execution_count": 8,
   "id": "33d858cd-7c95-4ba6-b097-a458eefe5cbc",
   "metadata": {},
   "outputs": [],
   "source": [
    "df = df.drop(['zip_code', 'desc', 'title'], axis=1, errors='ignore')\n"
   ]
  },
  {
   "cell_type": "code",
   "execution_count": 9,
   "id": "13712619-6bc8-4f67-9b16-2b7335a055c6",
   "metadata": {},
   "outputs": [],
   "source": [
    "df = df.dropna(thresh=len(df)*0.7, axis=1) # Drop columns with too many missing values\n",
    "\n",
    "numeric_cols = df.select_dtypes(include='number').columns\n",
    "df[numeric_cols] = df[numeric_cols].fillna(df[numeric_cols].median())\n",
    "\n",
    "categorical_cols = df.select_dtypes(include='object').columns\n",
    "df[categorical_cols] = df[categorical_cols].fillna(df[categorical_cols].mode().iloc[0])"
   ]
  },
  {
   "cell_type": "code",
   "execution_count": 10,
   "id": "9b64dd0c-c3eb-4ea0-9e1e-8742defe1aa8",
   "metadata": {},
   "outputs": [],
   "source": [
    "# Encoding categorical columns with low cardinality (less than 20 unique values)\n",
    "low_cardinality = [col for col in categorical_cols if df[col].nunique() < 20]\n",
    "df = pd.get_dummies(df, columns=low_cardinality, drop_first=True)"
   ]
  },
  {
   "cell_type": "code",
   "execution_count": 11,
   "id": "78837e6b-4e03-478b-a56d-1936b15a605a",
   "metadata": {},
   "outputs": [],
   "source": [
    "from sklearn.preprocessing import LabelEncoder\n",
    "\n",
    "label_encoder = LabelEncoder() #lable encoding for remaining object columns\n",
    "for col in df.select_dtypes(include='object').columns:\n",
    "    df[col] = label_encoder.fit_transform(df[col].astype(str))"
   ]
  },
  {
   "cell_type": "code",
   "execution_count": 14,
   "id": "547e0add-d516-4079-885e-a03fbfca7e27",
   "metadata": {},
   "outputs": [],
   "source": [
    "from sklearn.model_selection import train_test_split\n",
    "\n",
    "X = df.drop('Default', axis=1)\n",
    "y = df['Default']\n",
    "X_train, X_test, y_train, y_test = train_test_split(X, y, test_size=0.2, random_state=42)\n"
   ]
  },
  {
   "cell_type": "code",
   "execution_count": 16,
   "id": "2b02dae7-c431-486b-8668-7ecbf982a958",
   "metadata": {},
   "outputs": [
    {
     "name": "stderr",
     "output_type": "stream",
     "text": [
      "C:\\Users\\ihase\\anaconda3\\envs\\summarizer\\lib\\site-packages\\sklearn\\base.py:474: FutureWarning: `BaseEstimator._validate_data` is deprecated in 1.6 and will be removed in 1.7. Use `sklearn.utils.validation.validate_data` instead. This function becomes public and is part of the scikit-learn developer API.\n",
      "  warnings.warn(\n"
     ]
    }
   ],
   "source": [
    "from imblearn.over_sampling import SMOTE\n",
    "\n",
    "smote = SMOTE(random_state=42)\n",
    "X_resampled, y_resampled = smote.fit_resample(X_train, y_train)"
   ]
  },
  {
   "cell_type": "code",
   "execution_count": 17,
   "id": "4ff89868-9923-48bf-83de-8dd14e472524",
   "metadata": {},
   "outputs": [
    {
     "name": "stdout",
     "output_type": "stream",
     "text": [
      "[LightGBM] [Warning] Found whitespace in feature_names, replace with underlines\n",
      "[LightGBM] [Info] Number of positive: 862554, number of negative: 862554\n",
      "[LightGBM] [Info] Auto-choosing row-wise multi-threading, the overhead of testing was 0.197619 seconds.\n",
      "You can set `force_row_wise=true` to remove the overhead.\n",
      "And if memory is not enough, you can set `force_col_wise=true`.\n",
      "[LightGBM] [Info] Total Bins 1520\n",
      "[LightGBM] [Info] Number of data points in the train set: 1725108, number of used features: 35\n",
      "[LightGBM] [Info] [binary:BoostFromScore]: pavg=0.500000 -> initscore=0.000000\n"
     ]
    }
   ],
   "source": [
    "import lightgbm as lgb\n",
    "from sklearn.metrics import classification_report\n",
    "\n",
    "lgbm = lgb.LGBMClassifier(random_state=42)\n",
    "lgbm.fit(X_resampled, y_resampled)\n",
    "y_pred_lgbm = lgbm.predict(X_test)\n"
   ]
  },
  {
   "cell_type": "code",
   "execution_count": 23,
   "id": "eeed8bb0-61a1-46d5-b418-7e44bffc29c1",
   "metadata": {},
   "outputs": [
    {
     "name": "stdout",
     "output_type": "stream",
     "text": [
      "Precision: 0.46011222249329103\n",
      "Recall: 0.035147878268324044\n",
      "F1 Score: 0.06530697046296617\n",
      "              precision    recall  f1-score   support\n",
      "\n",
      "           0       0.80      0.99      0.89    215878\n",
      "           1       0.46      0.04      0.07     53659\n",
      "\n",
      "    accuracy                           0.80    269537\n",
      "   macro avg       0.63      0.51      0.48    269537\n",
      "weighted avg       0.74      0.80      0.72    269537\n",
      "\n"
     ]
    }
   ],
   "source": [
    "from sklearn.metrics import precision_score, recall_score, f1_score\n",
    "\n",
    "print(\"Precision:\", precision_score(y_test, y_pred_lgbm))\n",
    "print(\"Recall:\", recall_score(y_test, y_pred_lgbm))\n",
    "print(\"F1 Score:\", f1_score(y_test, y_pred_lgbm))\n",
    "print(classification_report(y_test, y_pred_lgbm))"
   ]
  },
  {
   "cell_type": "code",
   "execution_count": 24,
   "id": "aae6a52a-8dbd-4562-a912-46e1ac3585d6",
   "metadata": {},
   "outputs": [
    {
     "data": {
      "image/png": "[encoded data removed]",
      "text/plain": [
       "<Figure size 640x480 with 1 Axes>"
      ]
     },
     "metadata": {},
     "output_type": "display_data"
    }
   ],
   "source": [
    "import matplotlib.pyplot as plt\n",
    "\n",
    "lgb.plot_importance(lgbm, max_num_features=10)\n",
    "plt.title(\"Top 10 Important Features\")\n",
    "plt.show()"
   ]
  },
  {
   "cell_type": "code",
   "execution_count": null,
   "id": "3cfb671a-a39d-48cb-8225-9402aeccd01d",
   "metadata": {},
   "outputs": [],
   "source": []
  }
 ],
 "metadata": {
  "kernelspec": {
   "display_name": "Python 3 (ipykernel)",
   "language": "python",
   "name": "python3"
  },
  "language_info": {
   "codemirror_mode": {
    "name": "ipython",
    "version": 3
   },
   "file_extension": ".py",
   "mimetype": "text/x-python",
   "name": "python",
   "nbconvert_exporter": "python",
   "pygments_lexer": "ipython3",
   "version": "3.9.21"
  }
 },
 "nbformat": 4,
 "nbformat_minor": 5
}
